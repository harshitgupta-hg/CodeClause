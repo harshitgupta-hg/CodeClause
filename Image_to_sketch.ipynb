{
  "cells": [
    {
      "cell_type": "code",
      "execution_count": null,
      "metadata": {
        "colab": {
          "base_uri": "https://localhost:8080/"
        },
        "id": "0sOmzRZyIW_x",
        "outputId": "23ccab30-9442-4b4d-86a9-6c037e0f1d84"
      },
      "outputs": [
        {
          "name": "stderr",
          "output_type": "stream",
          "text": [
            "<ipython-input-1-74737ea18e8c>:33: DeprecationWarning: Starting with ImageIO v3 the behavior of this function will switch to that of iio.v3.imread. To keep the current behavior (and make this warning disappear) use `import imageio.v2 as imageio` or call `imageio.v2.imread` directly.\n",
            "  ss = imageio.imread(img)\n",
            "<ipython-input-1-74737ea18e8c>:40: DeprecationWarning: Please use `gaussian_filter` from the `scipy.ndimage` namespace, the `scipy.ndimage.filters` namespace is deprecated.\n",
            "  blur = scipy.ndimage.filters.gaussian_filter(i, sigma=13)\n"
          ]
        },
        {
          "data": {
            "text/plain": [
              "True"
            ]
          },
          "execution_count": 1,
          "metadata": {},
          "output_type": "execute_result"
        }
      ],
      "source": [
        "# Python program to Convert Image into sketch\n",
        "\n",
        "\n",
        "# import all the required modules\n",
        "import numpy as np\n",
        "import imageio\n",
        "import scipy.ndimage\n",
        "import cv2\n",
        "\n",
        "\n",
        "# take image input and assign variable to it\n",
        "img = \"/content/porche.jpg\"\n",
        "\n",
        "\n",
        "# function to convert image into sketch\n",
        "def rgb2gray(rgb):\n",
        "\t# 2 dimensional array to convert image to sketch\n",
        "\treturn np.dot(rgb[..., :3], [0.2989, 0.5870, .1140])\n",
        "\n",
        "\n",
        "def dodge(front, back):\n",
        "\n",
        "\t# if image is greater than 255 (which is not possible) it will convert it to 255\n",
        "\tfinal_sketch = front*255/(255-back)\n",
        "\tfinal_sketch[final_sketch > 255] = 255\n",
        "\tfinal_sketch[back == 255] = 255\n",
        "\n",
        "\t# to convert any suitable existing column to categorical type we will use aspect function\n",
        "\t# and uint8 is for 8-bit signed integer\n",
        "\treturn final_sketch.astype('uint8')\n",
        "\n",
        "\n",
        "ss = imageio.imread(img)\n",
        "gray = rgb2gray(ss)\n",
        "\n",
        "i = 255-gray\n",
        "\n",
        "\n",
        "# to convert into a blur image\n",
        "blur = scipy.ndimage.filters.gaussian_filter(i, sigma=13)\n",
        "\n",
        "\n",
        "# calling the function\n",
        "r = dodge(blur, gray)\n",
        "\n",
        "\n",
        "cv2.imwrite('4.png', r)\n"
      ]
    },
    {
      "cell_type": "code",
      "execution_count": null,
      "metadata": {
        "colab": {
          "base_uri": "https://localhost:8080/"
        },
        "id": "X9lEhGPlIhCW",
        "outputId": "e90f0f2a-aad1-4afb-8aff-c1c66d046d1e"
      },
      "outputs": [
        {
          "data": {
            "text/plain": [
              "True"
            ]
          },
          "execution_count": 2,
          "metadata": {},
          "output_type": "execute_result"
        }
      ],
      "source": [
        "import cv2\n",
        "image = cv2.imread('/content/porche.jpg') # loads an image from the specified file\n",
        "# convert an image from one color space to another\n",
        "grey_img = cv2.cvtColor(image, cv2.COLOR_BGR2GRAY)\n",
        "invert = cv2.bitwise_not(grey_img) # helps in masking of the image\n",
        "# sharp edges in images are smoothed while minimizing too much blurring\n",
        "blur = cv2.GaussianBlur(invert, (21, 21), 0)\n",
        "invertedblur = cv2.bitwise_not(blur)\n",
        "sketch = cv2.divide(grey_img, invertedblur, scale=256.0)\n",
        "cv2.imwrite(\"sketch.png\", sketch) # converted image is saved as mentioned name\n"
      ]
    },
    {
      "cell_type": "code",
      "execution_count": null,
      "metadata": {
        "id": "30IQ8IOVIwEU"
      },
      "outputs": [],
      "source": []
    }
  ],
  "metadata": {
    "colab": {
      "provenance": []
    },
    "kernelspec": {
      "display_name": "Python 3",
      "name": "python3"
    },
    "language_info": {
      "name": "python",
      "version": "3.11.5"
    }
  },
  "nbformat": 4,
  "nbformat_minor": 0
}
